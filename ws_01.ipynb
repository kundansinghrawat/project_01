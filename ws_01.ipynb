{
 "cells": [
  {
   "cell_type": "code",
   "execution_count": 32,
   "id": "c25be576",
   "metadata": {},
   "outputs": [],
   "source": [
    "from bs4 import BeautifulSoup\n",
    "import requests\n",
    "from csv import writer"
   ]
  },
  {
   "cell_type": "code",
   "execution_count": 33,
   "id": "b79ecd76",
   "metadata": {},
   "outputs": [],
   "source": [
    "url=\"https://www.pararius.com/apartments/amsterdam\"\n",
    "page=requests.get(url)\n",
    "soup=BeautifulSoup(page.content,\"html.parser\")\n"
   ]
  },
  {
   "cell_type": "code",
   "execution_count": 34,
   "id": "fd2a7f96",
   "metadata": {},
   "outputs": [],
   "source": [
    "all_lists =soup.find_all(\"section\",class_=\"listing-search-item\")\n",
    "with open(\"housing.csv\",\"w\",encoding=\"utf8\",newline=\"\") as f :\n",
    "    the_writer=writer(f)\n",
    "    header=[\"TITLE\",\"LOCATION\",\"PRICE\",\"AREA\"]\n",
    "    the_writer.writerow(header)\n",
    "\n",
    "    for single_row in all_lists:\n",
    "        title=single_row.find(\"a\",class_=\"listing-search-item__link--title\").get_text().replace(\"\\n\",\"\")\n",
    "        location=single_row.find(\"div\", class_=\"listing-search-item__location\").get_text().replace(\"\\n\",\"\")\n",
    "        price=single_row.find(\"div\", class_=\"listing-search-item__price\").get_text().replace(\"\\n\",\"\")\n",
    "        area=single_row.find(\"li\", class_=\"illustrated-features__item\").get_text().replace(\"\\n\",\"\")\n",
    "        info=[title,location,price,area]\n",
    "        \n",
    "        the_writer.writerow(info)\n",
    "    "
   ]
  },
  {
   "cell_type": "code",
   "execution_count": null,
   "id": "0bc51813",
   "metadata": {},
   "outputs": [],
   "source": [
    "    "
   ]
  }
 ],
 "metadata": {
  "kernelspec": {
   "display_name": "Python 3 (ipykernel)",
   "language": "python",
   "name": "python3"
  },
  "language_info": {
   "codemirror_mode": {
    "name": "ipython",
    "version": 3
   },
   "file_extension": ".py",
   "mimetype": "text/x-python",
   "name": "python",
   "nbconvert_exporter": "python",
   "pygments_lexer": "ipython3",
   "version": "3.9.12"
  }
 },
 "nbformat": 4,
 "nbformat_minor": 5
}
